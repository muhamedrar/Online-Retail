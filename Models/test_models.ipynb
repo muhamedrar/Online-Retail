{
 "cells": [
  {
   "cell_type": "code",
   "execution_count": 29,
   "id": "9e7a61a5",
   "metadata": {},
   "outputs": [],
   "source": [
    "import pickle\n",
    "import os\n",
    "import sys\n",
    "from src.sales_forcasting import SalesForecaster\n",
    "# from sales_forcasting import SalesForecaster  # Removed due to ModuleNotFoundError"
   ]
  },
  {
   "cell_type": "code",
   "execution_count": 33,
   "id": "67e52dbb",
   "metadata": {},
   "outputs": [
    {
     "name": "stdout",
     "output_type": "stream",
     "text": [
      "2025-12-07    18851.715124\n",
      "2025-12-08    18896.574387\n",
      "2025-12-09    18937.447987\n",
      "2025-12-10    19342.173683\n",
      "2025-12-11    21403.260422\n",
      "2025-12-12    21531.061922\n",
      "2025-12-13    21817.737446\n",
      "2025-12-14    22715.172621\n",
      "2025-12-15    23429.072401\n",
      "2025-12-16    24171.574872\n",
      "2025-12-17    24760.472518\n",
      "2025-12-18    24992.596956\n",
      "2025-12-19    24373.947985\n",
      "2025-12-20    24355.420017\n",
      "2025-12-21    24485.905762\n",
      "2025-12-22    24743.921690\n",
      "2025-12-23    24894.696454\n",
      "2025-12-24    24395.915912\n",
      "2025-12-25    23682.347080\n",
      "2025-12-26    23389.161850\n",
      "2025-12-27    23259.214393\n",
      "2025-12-28    22848.581947\n",
      "2025-12-29    22252.470512\n",
      "2025-12-30    21725.361091\n",
      "2025-12-31    21454.426639\n",
      "2026-01-01    21504.200509\n",
      "2026-01-02    21743.551110\n",
      "2026-01-03    21876.117536\n",
      "2026-01-04    21887.681568\n",
      "2026-01-05    21757.233518\n",
      "Freq: D, dtype: float64\n"
     ]
    }
   ],
   "source": [
    "\n",
    "import dill\n",
    "\n",
    "with open(\"../Models/sales_forecaster.pkl\", \"rb\") as f:\n",
    "    model = dill.load(f)\n",
    "# Example usage\n",
    "future_forecast = model.forecast(future_steps=30)\n",
    "print(future_forecast)"
   ]
  },
  {
   "cell_type": "code",
   "execution_count": null,
   "id": "4a13a55d",
   "metadata": {},
   "outputs": [],
   "source": []
  }
 ],
 "metadata": {
  "kernelspec": {
   "display_name": "moPy",
   "language": "python",
   "name": "python3"
  },
  "language_info": {
   "codemirror_mode": {
    "name": "ipython",
    "version": 3
   },
   "file_extension": ".py",
   "mimetype": "text/x-python",
   "name": "python",
   "nbconvert_exporter": "python",
   "pygments_lexer": "ipython3",
   "version": "3.12.3"
  }
 },
 "nbformat": 4,
 "nbformat_minor": 5
}
